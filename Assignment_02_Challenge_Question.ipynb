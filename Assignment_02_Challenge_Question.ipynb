{
  "nbformat": 4,
  "nbformat_minor": 0,
  "metadata": {
    "colab": {
      "provenance": [],
      "authorship_tag": "ABX9TyOQ3ZBIAsAIHieowK6i7lnm",
      "include_colab_link": true
    },
    "kernelspec": {
      "name": "python3",
      "display_name": "Python 3"
    },
    "language_info": {
      "name": "python"
    }
  },
  "cells": [
    {
      "cell_type": "markdown",
      "metadata": {
        "id": "view-in-github",
        "colab_type": "text"
      },
      "source": [
        "<a href=\"https://colab.research.google.com/github/UnknownMie/Assignment-02-Challenge_Python/blob/main/Assignment_02_Challenge_Question.ipynb\" target=\"_parent\"><img src=\"https://colab.research.google.com/assets/colab-badge.svg\" alt=\"Open In Colab\"/></a>"
      ]
    },
    {
      "cell_type": "markdown",
      "source": [
        "\n",
        "\n",
        "---\n",
        "#**Challenge Question**\n",
        "---\n",
        "\n",
        "Write a python program to sort the list of heterogeneous data.\n",
        "e.g.\n",
        "\n",
        "L = [\"Ram\", 1, \"Shyam\", 2, \"Aman\", 3] \n",
        "\n",
        "print(L)\n",
        "\n",
        "L.sort()\n",
        "\n",
        "print(L)\n",
        "\n",
        " Above code gives error. Correct it.\n",
        "\n"
      ],
      "metadata": {
        "id": "LxrddNeE0O6z"
      }
    },
    {
      "cell_type": "code",
      "execution_count": null,
      "metadata": {
        "colab": {
          "base_uri": "https://localhost:8080/"
        },
        "id": "G5W1c18Dz8kR",
        "outputId": "e79b0313-1b76-45a9-80d5-53703103907d"
      },
      "outputs": [
        {
          "output_type": "stream",
          "name": "stdout",
          "text": [
            "The heterogenous list sorted is:  [1, 2, 3, 'Aman', 'Ram', 'Shyam']\n"
          ]
        }
      ],
      "source": [
        "L= [\"Ram\", 1, \"Shyam\", 2, \"Aman\", 3]\n",
        "L_int=[]\n",
        "L_char=[]\n",
        "for i in L:\n",
        "  try:\n",
        "    L_int.append(int(i))\n",
        "  except:\n",
        "    L_char.append(i)\n",
        "L_int.sort()\n",
        "L_char.sort()\n",
        "L = L_int + L_char\n",
        "print(\"The heterogenous list sorted is: \",L)"
      ]
    }
  ]
}